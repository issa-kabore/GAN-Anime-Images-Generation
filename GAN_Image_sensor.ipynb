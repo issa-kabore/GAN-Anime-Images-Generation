{
  "cells": [
    {
      "cell_type": "markdown",
      "metadata": {
        "id": "vTLZHHIHGfqs"
      },
      "source": [
        "# GAN Animes Images Generation"
      ]
    },
    {
      "cell_type": "markdown",
      "metadata": {
        "id": "j8Fy9jTmIohw"
      },
      "source": [
        "## Import librairies\n"
      ]
    },
    {
      "cell_type": "code",
      "execution_count": null,
      "metadata": {
        "colab": {
          "base_uri": "https://localhost:8080/"
        },
        "collapsed": true,
        "id": "49drTUPCf2E5",
        "outputId": "fe7707f5-811f-41c8-8246-e801fb3626dd"
      },
      "outputs": [],
      "source": [
        "!pip install loguru\n"
      ]
    },
    {
      "cell_type": "code",
      "execution_count": null,
      "metadata": {
        "colab": {
          "base_uri": "https://localhost:8080/"
        },
        "id": "GyBhPZ9lEPv7",
        "outputId": "6475fa20-f0b3-41ca-de08-b7151d039345"
      },
      "outputs": [],
      "source": [
        "import logging\n",
        "from loguru import logger\n",
        "\n",
        "import sys\n",
        "import os\n",
        "import random\n",
        "import torch\n",
        "import torchvision\n",
        "import torch.nn as nn\n",
        "import torch.optim as optim\n",
        "import torch.utils.data\n",
        "import torchvision.datasets as dset\n",
        "import torchvision.transforms as transforms\n",
        "\n",
        "from tqdm import tqdm\n",
        "from torchvision import transforms\n",
        "from torchvision.utils import save_image, make_grid\n",
        "\n",
        "import numpy as np\n",
        "import matplotlib.pyplot as plt\n",
        "\n",
        "from google.colab import drive\n",
        "\n",
        "logger.info(f\"{sys.version = }\")\n",
        "logger.info(f\"{np.__version__ = }\")\n",
        "logger.info(f\"{torch.__version__ = }\")"
      ]
    },
    {
      "cell_type": "markdown",
      "metadata": {
        "id": "TgKenbSjFIJs"
      },
      "source": [
        "## Preparing env: load images"
      ]
    },
    {
      "cell_type": "code",
      "execution_count": null,
      "metadata": {
        "colab": {
          "base_uri": "https://localhost:8080/"
        },
        "id": "MHTfLvupFIq0",
        "outputId": "c73755d0-35e4-4988-eef7-493f536f34b0"
      },
      "outputs": [],
      "source": [
        "drive.mount(\"/content/drive\")\n",
        "device_config = torch.device(\"cuda:0\" if (torch.cuda.is_available()) else \"cpu\")\n",
        "logger.info(f\"{device_config = }\")"
      ]
    },
    {
      "cell_type": "code",
      "execution_count": null,
      "metadata": {
        "colab": {
          "base_uri": "https://localhost:8080/"
        },
        "collapsed": true,
        "id": "7oNLSYaZHBHi",
        "outputId": "fdc6c6cb-bccf-4042-86f5-2a7e323c156f"
      },
      "outputs": [],
      "source": [
        "!unzip '/content/drive/MyDrive/IA/GAN/anime_images.zip' -d'/content/images'"
      ]
    },
    {
      "cell_type": "markdown",
      "metadata": {
        "id": "AWFqcX7iK6v1"
      },
      "source": [
        "## Load dataset"
      ]
    },
    {
      "cell_type": "code",
      "execution_count": null,
      "metadata": {
        "colab": {
          "base_uri": "https://localhost:8080/"
        },
        "id": "04NLHBNlJalp",
        "outputId": "d6f68416-f701-49c3-e419-bf39875ddaa5"
      },
      "outputs": [],
      "source": [
        "batch_quantity = 64\n",
        "img_dimension = 64\n",
        "\n",
        "# Create the dataset\n",
        "anime_data = dset.ImageFolder(root = '/content/images',\n",
        "    transform = transforms.Compose([\n",
        "        transforms.Resize(img_dimension),\n",
        "        transforms.CenterCrop(img_dimension),\n",
        "        transforms.ToTensor(),\n",
        "        transforms.Normalize((0.5, 0.5, 0.5), (0.5, 0.5, 0.5)),\n",
        "    ]))\n",
        "\n",
        "# Create the dataloader\n",
        "data_loader = torch.utils.data.DataLoader(\n",
        "    anime_data,\n",
        "    batch_size = batch_quantity,\n",
        "    shuffle = True,\n",
        "    num_workers = 2,\n",
        "    drop_last = True\n",
        ")\n",
        "\n",
        "logger.info(f\"Nb batchs/{len(data_loader) = }\")\n",
        "logger.info(f\"Nb images : {len(anime_data)}\")"
      ]
    },
    {
      "cell_type": "markdown",
      "metadata": {
        "id": "pGeIUEpJpSXH"
      },
      "source": [
        "## Display some images"
      ]
    },
    {
      "cell_type": "code",
      "execution_count": null,
      "metadata": {
        "colab": {
          "base_uri": "https://localhost:8080/",
          "height": 653
        },
        "id": "zT0-wAa5JajH",
        "outputId": "3523d350-8f8e-460b-c5b8-63196001f8b0"
      },
      "outputs": [],
      "source": [
        "def display_image_grid(images):\n",
        "    images = images / 2 + 0.5\n",
        "    image_grid = make_grid(images, 8)\n",
        "    image_grid = image_grid.permute(1, 2, 0)\n",
        "    image_grid = image_grid.cpu().numpy()\n",
        "    plt.imshow(image_grid)\n",
        "    plt.xticks([])\n",
        "    plt.yticks([])\n",
        "    plt.show()\n",
        "    plt.close()\n",
        "\n",
        "sample_batch = next(iter(data_loader))\n",
        "plt.figure(figsize = (8 , 8))\n",
        "plt.axis(\"off\")\n",
        "\n",
        "display_image_grid(sample_batch[0] )\n",
        "\n"
      ]
    },
    {
      "cell_type": "markdown",
      "metadata": {
        "id": "jTwjEL5YpWeH"
      },
      "source": [
        "# Models: gen and disc"
      ]
    },
    {
      "cell_type": "markdown",
      "metadata": {
        "id": "qfppzyhGpcDc"
      },
      "source": [
        "## Build models\n"
      ]
    },
    {
      "cell_type": "code",
      "execution_count": null,
      "metadata": {
        "id": "GuDmoeyOJagO"
      },
      "outputs": [],
      "source": [
        "def initialize_weights(module):\n",
        "    module_name = module.__class__.__name__\n",
        "\n",
        "    if module_name.find('Conv') != -1:\n",
        "        nn.init.normal_(module.weight.data, 0.0, 0.02)\n",
        "    elif module_name.find('BatchNorm') != -1:\n",
        "        nn.init.normal_(module.weight.data, 1.0, 0.02)\n",
        "        nn.init.constant_(module.bias.data, 0)"
      ]
    },
    {
      "cell_type": "code",
      "execution_count": null,
      "metadata": {
        "colab": {
          "base_uri": "https://localhost:8080/"
        },
        "id": "PYjNqTEHjNCm",
        "outputId": "bcdf13d6-4ecc-4de9-a434-2539b3206f45"
      },
      "outputs": [],
      "source": [
        "# Number of channels in the training images. For color images this is 3 (R G B)\n",
        "num_channels = 3\n",
        "\n",
        "# Size of z latent vector\n",
        "z_dim = 100\n",
        "\n",
        "# Size of feature maps in generator\n",
        "gen_feature_size = 64\n",
        "\n",
        "# Size of feature maps in discriminator\n",
        "disc_feature_size = 64\n",
        "\n",
        "# Number of training epochs\n",
        "epoch_count = 50\n",
        "\n",
        "# Learning rate for optimizers\n",
        "learning_rate = 2e-4\n",
        "\n",
        "learning_rate"
      ]
    },
    {
      "cell_type": "code",
      "execution_count": null,
      "metadata": {
        "colab": {
          "base_uri": "https://localhost:8080/"
        },
        "id": "Q8rcMCpmjM_t",
        "outputId": "e6560e79-3d1e-4c4b-ee55-99ff0d1cb61d"
      },
      "outputs": [],
      "source": [
        "\n",
        "class GeneratorNetwork(nn.Module):\n",
        "    def __init__(self):\n",
        "        super(GeneratorNetwork, self).__init__()\n",
        "\n",
        "        self.model = nn.Sequential(\n",
        "            nn.ConvTranspose2d(z_dim, gen_feature_size * 8, 4, 1, 0, bias=False),\n",
        "            nn.BatchNorm2d(gen_feature_size * 8),\n",
        "            nn.ReLU(True),\n",
        "\n",
        "            nn.ConvTranspose2d(gen_feature_size * 8, gen_feature_size * 4, 4, 2, 1, bias=False),\n",
        "            nn.BatchNorm2d(gen_feature_size * 4),\n",
        "            nn.ReLU(True),\n",
        "\n",
        "            nn.ConvTranspose2d(gen_feature_size * 4, gen_feature_size * 2, 4, 2, 1, bias=False),\n",
        "            nn.BatchNorm2d(gen_feature_size * 2),\n",
        "            nn.ReLU(True),\n",
        "\n",
        "            nn.ConvTranspose2d(gen_feature_size * 2, gen_feature_size, 4, 2, 1, bias=False),\n",
        "            nn.BatchNorm2d(gen_feature_size),\n",
        "            nn.ReLU(True),\n",
        "\n",
        "            nn.ConvTranspose2d(gen_feature_size, num_channels, 4, 2, 1, bias=False),\n",
        "            nn.Tanh()\n",
        "        )\n",
        "\n",
        "    def forward(self, input_data):\n",
        "        return self.model(input_data)\n",
        "\n",
        "\n",
        "net_generator = GeneratorNetwork().to(device_config)\n",
        "net_generator.apply(initialize_weights)\n",
        "logger.info(net_generator)"
      ]
    },
    {
      "cell_type": "code",
      "execution_count": null,
      "metadata": {
        "colab": {
          "base_uri": "https://localhost:8080/"
        },
        "id": "-fnjCQk6jM3t",
        "outputId": "39264474-503e-44b2-e0ef-d861b9c3ef1b"
      },
      "outputs": [],
      "source": [
        "\n",
        "class DiscriminatorNetwork(nn.Module):\n",
        "    def __init__(self):\n",
        "        super(DiscriminatorNetwork, self).__init__()\n",
        "\n",
        "        self.model = nn.Sequential(\n",
        "            nn.Conv2d(num_channels, disc_feature_size, 4, 2, 1, bias=False),\n",
        "            nn.LeakyReLU(0.2, inplace=True),\n",
        "\n",
        "            nn.Conv2d(disc_feature_size, disc_feature_size * 2, 4, 2, 1, bias=False),\n",
        "            nn.BatchNorm2d(disc_feature_size * 2),\n",
        "            nn.LeakyReLU(0.2, inplace=True),\n",
        "\n",
        "            nn.Conv2d(disc_feature_size * 2, disc_feature_size * 4, 4, 2, 1, bias=False),\n",
        "            nn.BatchNorm2d(disc_feature_size * 4),\n",
        "            nn.LeakyReLU(0.2, inplace=True),\n",
        "\n",
        "            nn.Conv2d(disc_feature_size * 4, disc_feature_size * 8, 4, 2, 1, bias=False),\n",
        "            nn.BatchNorm2d(disc_feature_size * 8),\n",
        "            nn.LeakyReLU(0.2, inplace=True),\n",
        "\n",
        "            nn.Conv2d(disc_feature_size * 8, 1, 4, 1, 0, bias=False),\n",
        "            nn.Sigmoid()\n",
        "        )\n",
        "\n",
        "    def forward(self, input_data):\n",
        "        return self.model(input_data)\n",
        "\n",
        "net_discriminator = DiscriminatorNetwork().to(device_config)\n",
        "net_discriminator.apply(initialize_weights)\n",
        "logger.info(net_discriminator)"
      ]
    },
    {
      "cell_type": "code",
      "execution_count": null,
      "metadata": {
        "colab": {
          "base_uri": "https://localhost:8080/"
        },
        "collapsed": true,
        "id": "I4hv6DVwjQcG",
        "outputId": "0a7be85e-e361-435c-cebf-2b19561ed8d9"
      },
      "outputs": [],
      "source": [
        "latent_vector = torch.randn(64, z_dim, 1, 1, device=device_config)\n",
        "sample_output = net_generator(latent_vector)\n",
        "logger.info(sample_output.shape)\n",
        "sample_output[0]\n"
      ]
    },
    {
      "cell_type": "markdown",
      "metadata": {
        "id": "tjFfV6JEkGko"
      },
      "source": [
        "## Random generated output can be visualised individually or in batches"
      ]
    },
    {
      "cell_type": "code",
      "execution_count": null,
      "metadata": {
        "colab": {
          "base_uri": "https://localhost:8080/",
          "height": 450
        },
        "id": "pLkoE9TcJadP",
        "outputId": "11d9aaa2-0e0d-411e-c366-ae2b713f9bfc"
      },
      "outputs": [],
      "source": [
        "plt.imshow(np.transpose(make_grid(sample_output[0].to(device_config), padding=2, normalize=True).cpu(), (1, 2, 0)))"
      ]
    },
    {
      "cell_type": "code",
      "execution_count": null,
      "metadata": {
        "colab": {
          "base_uri": "https://localhost:8080/",
          "height": 453
        },
        "id": "2J6GfGXXjWcH",
        "outputId": "452b4f78-1801-492c-e02c-a099d0c7d91f"
      },
      "outputs": [],
      "source": [
        "plt.imshow(np.transpose(make_grid(sample_output.to(device_config), padding=2, normalize=True).cpu(), (1, 2, 0)))"
      ]
    },
    {
      "cell_type": "code",
      "execution_count": null,
      "metadata": {
        "colab": {
          "base_uri": "https://localhost:8080/"
        },
        "id": "b28e--NfjWZi",
        "outputId": "16b3c0f2-06f6-4386-8b3a-c1f4fcd7de66"
      },
      "outputs": [],
      "source": [
        "net_discriminator.eval()\n",
        "\n",
        "with torch.no_grad():\n",
        "    prediction = net_discriminator(sample_output)\n",
        "\n",
        "logger.info(prediction[:5])"
      ]
    },
    {
      "cell_type": "markdown",
      "metadata": {
        "id": "S-NjE0eppo2k"
      },
      "source": [
        "## Train models"
      ]
    },
    {
      "cell_type": "code",
      "execution_count": null,
      "metadata": {
        "id": "k23Q-JQUjWWh"
      },
      "outputs": [],
      "source": [
        "\n",
        "loss_function = nn.BCELoss()\n",
        "\n",
        "\n",
        "real_label_val = 1.\n",
        "fake_label_val = 0.\n",
        "\n",
        "optimizer_discriminator = optim.Adam(net_discriminator.parameters(), lr=learning_rate, betas=(0.5, 0.999))\n",
        "optimizer_generator = optim.Adam(net_generator.parameters(), lr=learning_rate, betas=(0.5, 0.999))"
      ]
    },
    {
      "cell_type": "code",
      "execution_count": null,
      "metadata": {
        "colab": {
          "base_uri": "https://localhost:8080/",
          "height": 1000
        },
        "collapsed": true,
        "id": "ywzZDXCIm6w_",
        "outputId": "e6ec9b4f-7552-48f6-d50b-2fbacbb11fce"
      },
      "outputs": [],
      "source": [
        "def train(epoch_count, data_loader, net_discriminator, net_generator, device_config, batch_quantity, real_label_val,\n",
        "          fake_label_val, optimizer_discriminator, optimizer_generator, z_dim):\n",
        "    for epoch in tqdm(range(epoch_count)):\n",
        "        for idx, dataset in enumerate(data_loader, 0):\n",
        "\n",
        "            net_discriminator.zero_grad()\n",
        "\n",
        "            real_imgs = dataset[0].to(device_config)\n",
        "            real_img_labels = torch.full((batch_quantity,), real_label_val, dtype=torch.float, device=device_config)\n",
        "\n",
        "            real_output = net_discriminator(real_imgs).view(-1)\n",
        "            disc_real_loss = loss_function(real_output, real_img_labels)\n",
        "            disc_real_loss.backward()\n",
        "\n",
        "            mean_real_score = real_output.mean().item()\n",
        "\n",
        "            noise_vec = torch.randn(batch_quantity, z_dim, 1, 1, device=device_config)\n",
        "\n",
        "            generated_imgs = net_generator(noise_vec)\n",
        "            fake_img_labels = torch.full((batch_quantity,), fake_label_val, dtype=torch.float, device=device_config)\n",
        "\n",
        "            fake_output = net_discriminator(generated_imgs.detach()).view(-1)\n",
        "            disc_fake_loss = loss_function(fake_output, fake_img_labels)\n",
        "            disc_fake_loss.backward()\n",
        "\n",
        "            mean_fake_score = fake_output.mean().item()\n",
        "\n",
        "            optimizer_discriminator.step()\n",
        "\n",
        "            net_generator.zero_grad()\n",
        "\n",
        "            output = net_discriminator(generated_imgs).view(-1)\n",
        "            gen_loss = loss_function(output, real_img_labels)\n",
        "            gen_loss.backward()\n",
        "            optimizer_generator.step()\n",
        "\n",
        "            if (idx % 200 == 0) or ((epoch == epoch_count - 1) and (idx == len(data_loader) - 1)):\n",
        "                logger.info(f\"\"\"Epoch {epoch + 1}: - Step: {idx} |\n",
        "                          D_real Loss: {disc_real_loss:.3f} |\n",
        "                          D_fake Loss: {disc_fake_loss:.3f} |\n",
        "                          G_Loss: {gen_loss:.3f} |\n",
        "                          Real_score {mean_real_score:.3f} |\n",
        "                          Fake_score {mean_fake_score:.3f}\n",
        "                \"\"\")\n",
        "\n",
        "                with torch.no_grad():\n",
        "                    fake_imgs_display = net_generator(noise_vec).reshape(batch_quantity, 3, 64, 64).detach().cpu()\n",
        "                    display_image_grid(fake_imgs_display)\n",
        "\n",
        "    full_discriminator_model_path = \"/content/drive/MyDrive/IA/GAN/discriminator_model.pth\"\n",
        "    torch.save(net_discriminator, full_discriminator_model_path)\n",
        "    logger.info(f\"Final Discriminator Model saved : {full_discriminator_model_path}\")\n",
        "\n",
        "    full_generator_model_path = \"/content/drive/MyDrive/IA/GAN/generator_model.pth\"\n",
        "    torch.save(net_generator, full_generator_model_path)\n",
        "    logger.info(f\"Final Generator model saved : {full_generator_model_path}\")\n",
        "\n",
        "\n",
        "\n",
        "train(epoch_count, data_loader, net_discriminator, net_generator, device_config, batch_quantity, real_label_val,\n",
        "          fake_label_val, optimizer_discriminator, optimizer_generator, z_dim,)"
      ]
    },
    {
      "cell_type": "code",
      "execution_count": null,
      "metadata": {
        "colab": {
          "base_uri": "https://localhost:8080/"
        },
        "id": "quM6bsTJlVUI",
        "outputId": "75374c80-d57f-4fe0-94fd-9e556c9db031"
      },
      "outputs": [],
      "source": [
        "\n",
        "net_generator_loaded = torch.load(\"/content/drive/MyDrive/IA/GAN/generator_model.pth\", weights_only=False)\n",
        "logger.info(net_generator_loaded.eval())\n",
        "logger.info(\"Generator model loaded.\")\n",
        "\n",
        "\n",
        "net_discriminator_loaded = torch.load(\"/content/drive/MyDrive/IA/GAN/discriminator_model.pth\", weights_only=False)\n",
        "logger.info(net_discriminator_loaded.eval())\n",
        "logger.info(\"Discriminator model loaded.\")\n"
      ]
    },
    {
      "cell_type": "code",
      "execution_count": null,
      "metadata": {
        "colab": {
          "base_uri": "https://localhost:8080/",
          "height": 675
        },
        "id": "VxO7ld-slVRK",
        "outputId": "8be252da-4cfe-4b83-b778-f557e4c66c2c"
      },
      "outputs": [],
      "source": [
        "noise_vec = torch.randn(64, z_dim, 1, 1, device=device_config)\n",
        "\n",
        "new_generatedimgs = net_generator_loaded(noise_vec).reshape(64, 3, 64, 64).detach()\n",
        "plt.figure(figsize = (8 , 8))\n",
        "plt.axis(\"off\")\n",
        "plt.title(\"Generated images\")\n",
        "\n",
        "display_image_grid(new_generatedimgs)"
      ]
    },
    {
      "cell_type": "code",
      "execution_count": null,
      "metadata": {
        "colab": {
          "base_uri": "https://localhost:8080/"
        },
        "id": "nC5mDJ2-npGo",
        "outputId": "b63c01a2-1081-40ee-b7ab-0bce64996afc"
      },
      "outputs": [],
      "source": [
        "\n",
        "prediction = net_discriminator_loaded(new_generatedimgs)\n",
        "\n",
        "mean=prediction.mean().item()\n",
        "std=prediction.std().item()\n",
        "p_max = prediction.max().item()\n",
        "idx_max = prediction.argmax().item()\n",
        "logger.info(f\"Mean proba = {mean:5f}\")\n",
        "logger.info(f\"Std = {std:5f}\")\n",
        "\n",
        "logger.info(f\"Max proba = {p_max:02f}\")\n",
        "logger.info(f\"iMax proba (image id/num) = {idx_max}\")\n"
      ]
    },
    {
      "cell_type": "code",
      "execution_count": null,
      "metadata": {
        "colab": {
          "base_uri": "https://localhost:8080/"
        },
        "id": "wKuT3zagmef5",
        "outputId": "19bbaa53-52a3-4b7b-ec8b-ed6b6579e2dc"
      },
      "outputs": [],
      "source": [
        "prediction.mean().item()"
      ]
    },
    {
      "cell_type": "code",
      "execution_count": null,
      "metadata": {
        "id": "oHw4nuCzmeZ9"
      },
      "outputs": [],
      "source": []
    },
    {
      "cell_type": "code",
      "execution_count": null,
      "metadata": {
        "id": "h15CJwNUmeW5"
      },
      "outputs": [],
      "source": []
    }
  ],
  "metadata": {
    "accelerator": "GPU",
    "colab": {
      "gpuType": "T4",
      "provenance": [],
      "toc_visible": true
    },
    "kernelspec": {
      "display_name": "Python 3",
      "name": "python3"
    },
    "language_info": {
      "name": "python"
    }
  },
  "nbformat": 4,
  "nbformat_minor": 0
}
